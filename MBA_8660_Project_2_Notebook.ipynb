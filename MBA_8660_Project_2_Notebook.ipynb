{
  "cells": [
    {
      "cell_type": "markdown",
      "metadata": {
        "id": "view-in-github",
        "colab_type": "text"
      },
      "source": [
        "<a href=\"https://colab.research.google.com/github/MatthewK84/MBA-8660/blob/main/MBA_8660_Project_2_Notebook.ipynb\" target=\"_parent\"><img src=\"https://colab.research.google.com/assets/colab-badge.svg\" alt=\"Open In Colab\"/></a>"
      ]
    },
    {
      "cell_type": "markdown",
      "metadata": {
        "id": "6XfMlqXLlkyL"
      },
      "source": [
        "# Ok Cupid Dataset EDA"
      ]
    },
    {
      "cell_type": "markdown",
      "metadata": {
        "id": "rh5lIp7OlkyM"
      },
      "source": [
        "The dataset was selected as it is somewhat entertaining. Additionally, it serves as a good practice arena for lambda functions and other data manipulation techniques to hone in on a useable subset."
      ]
    },
    {
      "cell_type": "markdown",
      "metadata": {
        "id": "xfJi0cPKlkyN"
      },
      "source": [
        "## Prepare for Data Analysis"
      ]
    },
    {
      "cell_type": "markdown",
      "metadata": {
        "id": "V1MMLbA3lkyN"
      },
      "source": [
        "### Load Packages"
      ]
    },
    {
      "cell_type": "code",
      "execution_count": 8,
      "metadata": {
        "execution": {
          "iopub.execute_input": "2023-10-05T22:59:55.501452Z",
          "iopub.status.busy": "2023-10-05T22:59:55.500418Z",
          "iopub.status.idle": "2023-10-05T22:59:57.424890Z",
          "shell.execute_reply": "2023-10-05T22:59:57.423605Z",
          "shell.execute_reply.started": "2023-10-05T22:59:55.501414Z"
        },
        "trusted": true,
        "colab": {
          "base_uri": "https://localhost:8080/"
        },
        "id": "PqDbK758lkyN",
        "outputId": "c1dbc1bf-f0c9-41be-9857-e124360fd534"
      },
      "outputs": [
        {
          "output_type": "stream",
          "name": "stderr",
          "text": [
            "[nltk_data] Downloading package stopwords to /root/nltk_data...\n",
            "[nltk_data]   Package stopwords is already up-to-date!\n"
          ]
        }
      ],
      "source": [
        "# initial imports and check file is readable\n",
        "import pandas as pd\n",
        "import numpy as np\n",
        "import seaborn as sns\n",
        "import matplotlib.pyplot as plt\n",
        "from PIL import Image # linked to generating a wordcloud\n",
        "from os import path # for wordcloud\n",
        "from wordcloud import WordCloud, STOPWORDS, ImageColorGenerator # for wordcloud\n",
        "\n",
        "import re #regular expressions\n",
        "import nltk\n",
        "nltk.download('stopwords')\n",
        "from nltk.tokenize import word_tokenize #turn strings into lists\n",
        "from nltk.corpus import stopwords # remove words like 'a', 'an' etc.\n",
        "stop_words = set(stopwords.words('english')) #imports the english stopwords\n",
        "from nltk.stem import PorterStemmer #for 'stemming' words to improve search/assessments\n",
        "stemmer = PorterStemmer()\n",
        "\n",
        "okcupid = pd.read_csv('okcupid_profiles.csv')"
      ]
    },
    {
      "cell_type": "code",
      "execution_count": 9,
      "metadata": {
        "execution": {
          "iopub.execute_input": "2023-10-05T22:59:57.428936Z",
          "iopub.status.busy": "2023-10-05T22:59:57.428609Z",
          "iopub.status.idle": "2023-10-05T22:59:57.434106Z",
          "shell.execute_reply": "2023-10-05T22:59:57.433037Z",
          "shell.execute_reply.started": "2023-10-05T22:59:57.428907Z"
        },
        "trusted": true,
        "id": "FKUHTXKblkyO"
      },
      "outputs": [],
      "source": [
        "import warnings\n",
        "warnings.filterwarnings(\"ignore\")"
      ]
    },
    {
      "cell_type": "markdown",
      "metadata": {
        "id": "vZyHr9jNlkyO"
      },
      "source": [
        "### Load Data"
      ]
    },
    {
      "cell_type": "code",
      "execution_count": 10,
      "metadata": {
        "execution": {
          "iopub.execute_input": "2023-10-06T01:06:25.512619Z",
          "iopub.status.busy": "2023-10-06T01:06:25.512035Z",
          "iopub.status.idle": "2023-10-06T01:06:25.520537Z",
          "shell.execute_reply": "2023-10-06T01:06:25.518929Z",
          "shell.execute_reply.started": "2023-10-06T01:06:25.512552Z"
        },
        "trusted": true,
        "colab": {
          "base_uri": "https://localhost:8080/"
        },
        "id": "jFghZ03NlkyP",
        "outputId": "0e49f23e-a34d-42e5-c372-4bd82a83794b"
      },
      "outputs": [
        {
          "output_type": "stream",
          "name": "stdout",
          "text": [
            "There are 59947 observations (i.e. personal profiles) and 154 features in this dataset. \n",
            "\n"
          ]
        }
      ],
      "source": [
        "print(\"There are {} observations (i.e. personal profiles) and {} features in this dataset. \\n\".format(okcupid.shape[0],okcupid.shape[1]))"
      ]
    },
    {
      "cell_type": "markdown",
      "metadata": {
        "id": "2Hfh9bv1lkyP"
      },
      "source": [
        "## Data Exploration"
      ]
    },
    {
      "cell_type": "markdown",
      "metadata": {
        "id": "5WsA8J6RlkyQ"
      },
      "source": [
        "### Duplicates check"
      ]
    },
    {
      "cell_type": "code",
      "execution_count": 11,
      "metadata": {
        "execution": {
          "iopub.execute_input": "2023-10-05T22:59:57.475951Z",
          "iopub.status.busy": "2023-10-05T22:59:57.475038Z",
          "iopub.status.idle": "2023-10-05T22:59:57.785378Z",
          "shell.execute_reply": "2023-10-05T22:59:57.784125Z",
          "shell.execute_reply.started": "2023-10-05T22:59:57.475920Z"
        },
        "trusted": true,
        "colab": {
          "base_uri": "https://localhost:8080/"
        },
        "id": "dIZbIA73lkyQ",
        "outputId": "4bb48388-e1d3-4c04-cc2b-893873948f48"
      },
      "outputs": [
        {
          "output_type": "stream",
          "name": "stdout",
          "text": [
            "False    59947\n",
            "dtype: int64\n"
          ]
        }
      ],
      "source": [
        "duplicates = okcupid.duplicated()\n",
        "print(duplicates.value_counts())"
      ]
    },
    {
      "cell_type": "markdown",
      "metadata": {
        "id": "ahf0rQodlkyQ"
      },
      "source": [
        "The number of false duplicates equals the number of rows - i.e. there are no dupicated rows"
      ]
    },
    {
      "cell_type": "markdown",
      "metadata": {
        "id": "OhCYOkTSlkyQ"
      },
      "source": [
        "## Tidying/Wrangling"
      ]
    },
    {
      "cell_type": "code",
      "execution_count": 12,
      "metadata": {
        "execution": {
          "iopub.execute_input": "2023-10-05T22:59:57.787771Z",
          "iopub.status.busy": "2023-10-05T22:59:57.786622Z",
          "iopub.status.idle": "2023-10-05T22:59:57.912006Z",
          "shell.execute_reply": "2023-10-05T22:59:57.910803Z",
          "shell.execute_reply.started": "2023-10-05T22:59:57.787737Z"
        },
        "trusted": true,
        "colab": {
          "base_uri": "https://localhost:8080/"
        },
        "id": "4Ri_Wb7UlkyQ",
        "outputId": "64bbd291-2b66-41dc-b85b-7a72d1f3a761"
      },
      "outputs": [
        {
          "output_type": "stream",
          "name": "stdout",
          "text": [
            "<class 'pandas.core.frame.DataFrame'>\n",
            "RangeIndex: 59947 entries, 0 to 59946\n",
            "Columns: 154 entries, age to Unnamed: 153\n",
            "dtypes: object(154)\n",
            "memory usage: 70.4+ MB\n"
          ]
        }
      ],
      "source": [
        "okcupid_variables = pd.DataFrame(okcupid.info())"
      ]
    },
    {
      "cell_type": "markdown",
      "metadata": {
        "id": "w7XxXMgElkyR"
      },
      "source": [
        "This dataset seems mostly/totally complete in the primary areas needed for a dating profile:\n",
        "\n",
        "_Complete_\n",
        "* Age\n",
        "* Status (relationship status)\n",
        "* Sex\n",
        "* Orentation\n",
        "* Last online (missing values here would be due to technical error - no online presence, no profile, no entry)\n",
        "* Location\n",
        "* Income\n",
        "\n",
        "_Mostly complete (<5% missing values/ over 532000 values)_\n",
        "* Body type\n",
        "* Drinks (consumes alcohol)\n",
        "* Education\n",
        "* Ethnicity\n",
        "* Height\n",
        "* Smokes\n",
        "* Speaks (languages)\n",
        "* Essay 0 (first freeform question)\n",
        "\n",
        "This gives a glimpse into which variables are possibly most valued, because either they were set as compulsory or people decided to complete them"
      ]
    },
    {
      "cell_type": "code",
      "execution_count": 13,
      "metadata": {
        "execution": {
          "iopub.execute_input": "2023-10-05T22:59:57.913668Z",
          "iopub.status.busy": "2023-10-05T22:59:57.913325Z",
          "iopub.status.idle": "2023-10-05T22:59:57.920257Z",
          "shell.execute_reply": "2023-10-05T22:59:57.919098Z",
          "shell.execute_reply.started": "2023-10-05T22:59:57.913636Z"
        },
        "trusted": true,
        "colab": {
          "base_uri": "https://localhost:8080/"
        },
        "id": "piDZVYDplkyR",
        "outputId": "54910e0a-b1ae-4060-a5d2-ce5f7de168d3"
      },
      "outputs": [
        {
          "output_type": "stream",
          "name": "stdout",
          "text": [
            "Index(['age', 'status', 'sex', 'orientation', 'body_type', 'diet', 'drinks',\n",
            "       'drugs', 'education', 'ethnicity',\n",
            "       ...\n",
            "       'Unnamed: 144', 'Unnamed: 145', 'Unnamed: 146', 'Unnamed: 147',\n",
            "       'Unnamed: 148', 'Unnamed: 149', 'Unnamed: 150', 'Unnamed: 151',\n",
            "       'Unnamed: 152', 'Unnamed: 153'],\n",
            "      dtype='object', length=154)\n"
          ]
        }
      ],
      "source": [
        "print(okcupid.columns)"
      ]
    },
    {
      "cell_type": "markdown",
      "metadata": {
        "id": "L4ALJUF2lkyR"
      },
      "source": [
        "Next I'll inspect each variable"
      ]
    },
    {
      "cell_type": "code",
      "execution_count": 14,
      "metadata": {
        "execution": {
          "iopub.execute_input": "2023-10-05T22:59:57.922278Z",
          "iopub.status.busy": "2023-10-05T22:59:57.921976Z",
          "iopub.status.idle": "2023-10-05T22:59:57.942084Z",
          "shell.execute_reply": "2023-10-05T22:59:57.941143Z",
          "shell.execute_reply.started": "2023-10-05T22:59:57.922249Z"
        },
        "trusted": true,
        "colab": {
          "base_uri": "https://localhost:8080/"
        },
        "id": "xZqnKO-IlkyR",
        "outputId": "0d2eaac2-7502-49a4-dc03-243efc4f0a9c"
      },
      "outputs": [
        {
          "output_type": "execute_result",
          "data": {
            "text/plain": [
              "count     59947\n",
              "unique      107\n",
              "top          26\n",
              "freq       3490\n",
              "Name: age, dtype: int64"
            ]
          },
          "metadata": {},
          "execution_count": 14
        }
      ],
      "source": [
        "okcupid.age.describe()"
      ]
    },
    {
      "cell_type": "markdown",
      "metadata": {
        "id": "2aqulgonlkyR"
      },
      "source": [
        "'Age'\n",
        "\n",
        "A complete variable, so next is to check the quality of the data. The min value is reasonable at 18, whereas the max value is an unlikely 110"
      ]
    },
    {
      "cell_type": "code",
      "execution_count": 15,
      "metadata": {
        "execution": {
          "iopub.execute_input": "2023-10-05T22:59:57.944119Z",
          "iopub.status.busy": "2023-10-05T22:59:57.943105Z",
          "iopub.status.idle": "2023-10-05T22:59:57.951879Z",
          "shell.execute_reply": "2023-10-05T22:59:57.951052Z",
          "shell.execute_reply.started": "2023-10-05T22:59:57.944085Z"
        },
        "trusted": true,
        "colab": {
          "base_uri": "https://localhost:8080/"
        },
        "id": "p43Pj9T1lkyR",
        "outputId": "86be77c8-2790-4712-eadc-b7e9bdd81e6d"
      },
      "outputs": [
        {
          "output_type": "execute_result",
          "data": {
            "text/plain": [
              "26                                    3490\n",
              "27                                    3451\n",
              "28                                    3347\n",
              "25                                    3314\n",
              "29                                    3068\n",
              "                                      ... \n",
              "65                                       2\n",
              "69                                       2\n",
              "109                                      1\n",
              "110                                      1\n",
              "st teachers; the powerfully humble       1\n",
              "Name: age, Length: 107, dtype: int64"
            ]
          },
          "metadata": {},
          "execution_count": 15
        }
      ],
      "source": [
        "okcupid.age.value_counts()"
      ]
    },
    {
      "cell_type": "code",
      "source": [
        "# Define a function to safely convert strings to integers\n",
        "def safe_int_conversion(value):\n",
        "    try:\n",
        "        return int(value)\n",
        "    except ValueError:\n",
        "        return None  # or return a placeholder like -1 or np.nan\n",
        "\n",
        "# Apply the function to the 'age' column\n",
        "okcupid['age'] = okcupid['age'].apply(safe_int_conversion)"
      ],
      "metadata": {
        "id": "-B9slT8MHox0"
      },
      "execution_count": 16,
      "outputs": []
    },
    {
      "cell_type": "markdown",
      "metadata": {
        "id": "uYoW-z22lkyS"
      },
      "source": [
        "--> a neater way to do this than value_counts()?\n",
        "The data all looks reasonable apart from the ages of 110 and 109 - likely someone incorrectly entered their birthday or used a fake one"
      ]
    },
    {
      "cell_type": "code",
      "execution_count": 17,
      "metadata": {
        "execution": {
          "iopub.execute_input": "2023-10-05T22:59:57.954013Z",
          "iopub.status.busy": "2023-10-05T22:59:57.953237Z",
          "iopub.status.idle": "2023-10-05T22:59:57.976362Z",
          "shell.execute_reply": "2023-10-05T22:59:57.975090Z",
          "shell.execute_reply.started": "2023-10-05T22:59:57.953968Z"
        },
        "trusted": true,
        "id": "VwzzpvajlkyS"
      },
      "outputs": [],
      "source": [
        "age_errors = okcupid[okcupid.age > 100]"
      ]
    },
    {
      "cell_type": "markdown",
      "metadata": {
        "id": "-HGFBu8mlkyS"
      },
      "source": [
        "From viewing these, it seems where age=110 the profile may have been speculative and not wanting to give much information, as there is very little other information.\n",
        "Where age=109, there may have been an error as he is also uncommonly tall, 242 cm (shortest male entrant in list of Wikipedia world's tallest people is 216cm )\n",
        "\n",
        "Will consider what to do with these results when the aim of the investigation is clearer"
      ]
    },
    {
      "cell_type": "code",
      "execution_count": 18,
      "metadata": {
        "execution": {
          "iopub.execute_input": "2023-10-05T22:59:57.978794Z",
          "iopub.status.busy": "2023-10-05T22:59:57.978019Z",
          "iopub.status.idle": "2023-10-05T22:59:57.991507Z",
          "shell.execute_reply": "2023-10-05T22:59:57.990362Z",
          "shell.execute_reply.started": "2023-10-05T22:59:57.978755Z"
        },
        "trusted": true,
        "colab": {
          "base_uri": "https://localhost:8080/"
        },
        "id": "TYa-aWNRlkyS",
        "outputId": "3f277547-9e22-4227-a978-e192efab347c"
      },
      "outputs": [
        {
          "output_type": "execute_result",
          "data": {
            "text/plain": [
              "single                                                                                                        55697\n",
              "seeing someone                                                                                                 2064\n",
              "available                                                                                                      1865\n",
              "married                                                                                                         310\n",
              "unknown                                                                                                          10\n",
              "simple and potent people met in everyday life ... (which especially includes infants and children) athlete        1\n",
              "Name: status, dtype: int64"
            ]
          },
          "metadata": {},
          "execution_count": 18
        }
      ],
      "source": [
        "okcupid.status.value_counts()"
      ]
    },
    {
      "cell_type": "markdown",
      "metadata": {
        "id": "8R38yNAslkyS"
      },
      "source": [
        "'Status'\n",
        "\n",
        "is Relationship Status.\n",
        "Categories are:\n",
        "* Single\n",
        "* Seeing somone\n",
        "* Available\n",
        "* Married\n",
        "* Unknown - this one needs further investigation: unknown as in profile hasn't added their status? (from code snippet below I'd say yes)"
      ]
    },
    {
      "cell_type": "code",
      "execution_count": 19,
      "metadata": {
        "execution": {
          "iopub.execute_input": "2023-10-05T22:59:57.993468Z",
          "iopub.status.busy": "2023-10-05T22:59:57.992651Z",
          "iopub.status.idle": "2023-10-05T22:59:58.008216Z",
          "shell.execute_reply": "2023-10-05T22:59:58.007003Z",
          "shell.execute_reply.started": "2023-10-05T22:59:57.993437Z"
        },
        "trusted": true,
        "colab": {
          "base_uri": "https://localhost:8080/"
        },
        "id": "f4kTkMGClkyS",
        "outputId": "d29e637c-906c-4f52-ab69-2bc718c25c4c"
      },
      "outputs": [
        {
          "output_type": "execute_result",
          "data": {
            "text/plain": [
              "m                                                       35829\n",
              "f                                                       24117\n",
              " strength trainer/power lifter with brains and heart        1\n",
              "Name: sex, dtype: int64"
            ]
          },
          "metadata": {},
          "execution_count": 19
        }
      ],
      "source": [
        "okcupid.sex.value_counts()"
      ]
    },
    {
      "cell_type": "markdown",
      "metadata": {
        "id": "HKMGjUt_lkyT"
      },
      "source": [
        "'Sex'\n",
        "\n",
        "Only in two vales: 'm' or 'f'"
      ]
    },
    {
      "cell_type": "code",
      "execution_count": 20,
      "metadata": {
        "execution": {
          "iopub.execute_input": "2023-10-05T22:59:58.010494Z",
          "iopub.status.busy": "2023-10-05T22:59:58.009393Z",
          "iopub.status.idle": "2023-10-05T22:59:58.022906Z",
          "shell.execute_reply": "2023-10-05T22:59:58.021508Z",
          "shell.execute_reply.started": "2023-10-05T22:59:58.010458Z"
        },
        "trusted": true,
        "colab": {
          "base_uri": "https://localhost:8080/"
        },
        "id": "ziwAyLKelkyT",
        "outputId": "d7ca5196-787b-4115-e6bf-ab8306c98193"
      },
      "outputs": [
        {
          "output_type": "execute_result",
          "data": {
            "text/plain": [
              "straight                                       51606\n",
              "gay                                             5573\n",
              "bisexual                                        2767\n",
              " easy on the eyes.  i'm looking for friends        1\n",
              "Name: orientation, dtype: int64"
            ]
          },
          "metadata": {},
          "execution_count": 20
        }
      ],
      "source": [
        "okcupid.orientation.value_counts()"
      ]
    },
    {
      "cell_type": "markdown",
      "metadata": {
        "id": "-axogNKjlkyT"
      },
      "source": [
        "'Orientation'\n",
        "\n",
        "is 'straight', 'gay' and 'bisexual'\n",
        "Seen here large majority is straight, followed by gay then bisexual"
      ]
    },
    {
      "cell_type": "code",
      "execution_count": 21,
      "metadata": {
        "execution": {
          "iopub.execute_input": "2023-10-05T22:59:58.030219Z",
          "iopub.status.busy": "2023-10-05T22:59:58.029113Z",
          "iopub.status.idle": "2023-10-05T22:59:58.044903Z",
          "shell.execute_reply": "2023-10-05T22:59:58.043434Z",
          "shell.execute_reply.started": "2023-10-05T22:59:58.030172Z"
        },
        "trusted": true,
        "colab": {
          "base_uri": "https://localhost:8080/"
        },
        "id": "nczzF9dOlkyT",
        "outputId": "0b68ce2f-7bc4-408c-dabf-07e0269f71e2"
      },
      "outputs": [
        {
          "output_type": "execute_result",
          "data": {
            "text/plain": [
              "average           14652\n",
              "fit               12711\n",
              "athletic          11819\n",
              "thin               4711\n",
              "curvy              3924\n",
              "a little extra     2629\n",
              "skinny             1777\n",
              "full figured       1009\n",
              "overweight          444\n",
              "jacked              421\n",
              "used up             355\n",
              "rather not say      198\n",
              " community            1\n",
              "Name: body_type, dtype: int64"
            ]
          },
          "metadata": {},
          "execution_count": 21
        }
      ],
      "source": [
        "okcupid.body_type.value_counts()"
      ]
    },
    {
      "cell_type": "code",
      "execution_count": 22,
      "metadata": {
        "execution": {
          "iopub.execute_input": "2023-10-06T00:24:51.113375Z",
          "iopub.status.busy": "2023-10-06T00:24:51.111229Z",
          "iopub.status.idle": "2023-10-06T00:24:51.131350Z",
          "shell.execute_reply": "2023-10-06T00:24:51.129911Z",
          "shell.execute_reply.started": "2023-10-06T00:24:51.113296Z"
        },
        "trusted": true,
        "id": "Kk7Nomo1lkyT"
      },
      "outputs": [],
      "source": [
        "null_bodies = okcupid[okcupid.body_type.isnull()]"
      ]
    },
    {
      "cell_type": "markdown",
      "metadata": {
        "id": "sGBAwDj6lkyT"
      },
      "source": [
        "'Body_type'\n",
        "\n",
        "average           14652,\n",
        "fit               12711,\n",
        "athletic          11819,\n",
        "thin               4711,\n",
        "curvy              3924,\n",
        "a little extra     2629,\n",
        "skinny             1777,\n",
        "full figured       1009,\n",
        "overweight          444,\n",
        "jacked              421,\n",
        "used up             355,\n",
        "rather not say      198\n",
        "From here I'll assume the NaN values are just unfilled cells\n"
      ]
    },
    {
      "cell_type": "code",
      "execution_count": 23,
      "metadata": {
        "execution": {
          "iopub.execute_input": "2023-10-05T22:59:58.078767Z",
          "iopub.status.busy": "2023-10-05T22:59:58.078325Z",
          "iopub.status.idle": "2023-10-05T22:59:58.095113Z",
          "shell.execute_reply": "2023-10-05T22:59:58.093908Z",
          "shell.execute_reply.started": "2023-10-05T22:59:58.078730Z"
        },
        "trusted": true,
        "colab": {
          "base_uri": "https://localhost:8080/"
        },
        "id": "fpR0r3EflkyT",
        "outputId": "054aa8fb-ccee-45d5-b3ff-a4394e21d4e3"
      },
      "outputs": [
        {
          "output_type": "execute_result",
          "data": {
            "text/plain": [
              "mostly anything        16585\n",
              "anything                6183\n",
              "strictly anything       5113\n",
              "mostly vegetarian       3444\n",
              "mostly other            1007\n",
              "strictly vegetarian      875\n",
              "vegetarian               667\n",
              "strictly other           452\n",
              "mostly vegan             338\n",
              "other                    331\n",
              "strictly vegan           228\n",
              "vegan                    136\n",
              "mostly kosher             86\n",
              "mostly halal              48\n",
              "strictly halal            18\n",
              "strictly kosher           18\n",
              "halal                     11\n",
              "kosher                    11\n",
              " dating partner(s)         1\n",
              "Name: diet, dtype: int64"
            ]
          },
          "metadata": {},
          "execution_count": 23
        }
      ],
      "source": [
        "okcupid.diet.value_counts()"
      ]
    },
    {
      "cell_type": "code",
      "source": [
        "food_df = okcupid[okcupid['diet'].isin([\"mostly anything\", \"strictly anything\", \"mostly vegetarian\", \"strictly vegetarian\"])]"
      ],
      "metadata": {
        "id": "TXi3mtNlL5DR"
      },
      "execution_count": 24,
      "outputs": []
    },
    {
      "cell_type": "code",
      "source": [
        "sns.histplot(x='diet', data=food_df)\n",
        "plt.xticks(rotation=45)\n",
        "plt.show()"
      ],
      "metadata": {
        "colab": {
          "base_uri": "https://localhost:8080/",
          "height": 535
        },
        "id": "wJ-z7XJLMTZE",
        "outputId": "5ef53c66-8b28-494b-eda6-20cdf261bc1c"
      },
      "execution_count": 25,
      "outputs": [
        {
          "output_type": "display_data",
          "data": {
            "text/plain": [
              "<Figure size 640x480 with 1 Axes>"
            ],
            "image/png": "[encoded data removed]"
          },
          "metadata": {}
        }
      ]
    },
    {
      "cell_type": "markdown",
      "metadata": {
        "id": "jlOejHbjlkyU"
      },
      "source": [
        "'Diet'\n",
        "\n",
        "Variety of diet types, expaned by some having 'mostly...' and 'strictly...' categories"
      ]
    },
    {
      "cell_type": "markdown",
      "metadata": {
        "id": "_LF7DDO8lkyU"
      },
      "source": [
        "'Drinks'"
      ]
    },
    {
      "cell_type": "code",
      "execution_count": 26,
      "metadata": {
        "execution": {
          "iopub.execute_input": "2023-10-05T22:59:58.097144Z",
          "iopub.status.busy": "2023-10-05T22:59:58.096727Z",
          "iopub.status.idle": "2023-10-05T22:59:58.114767Z",
          "shell.execute_reply": "2023-10-05T22:59:58.113716Z",
          "shell.execute_reply.started": "2023-10-05T22:59:58.097102Z"
        },
        "trusted": true,
        "colab": {
          "base_uri": "https://localhost:8080/"
        },
        "id": "gH-eTDhMlkyU",
        "outputId": "9ab4b77a-b003-4522-e2b4-b8f95f57bf7b"
      },
      "outputs": [
        {
          "output_type": "execute_result",
          "data": {
            "text/plain": [
              "socially       41780\n",
              "rarely          5957\n",
              "often           5164\n",
              "not at all      3267\n",
              "very often       471\n",
              "desperately      322\n",
              " playmates         1\n",
              "Name: drinks, dtype: int64"
            ]
          },
          "metadata": {},
          "execution_count": 26
        }
      ],
      "source": [
        "okcupid.drinks.value_counts()"
      ]
    },
    {
      "cell_type": "markdown",
      "metadata": {
        "id": "kFxgpHltlkyb"
      },
      "source": [
        "'Drugs'"
      ]
    },
    {
      "cell_type": "code",
      "execution_count": 27,
      "metadata": {
        "execution": {
          "iopub.execute_input": "2023-10-05T22:59:58.117350Z",
          "iopub.status.busy": "2023-10-05T22:59:58.116883Z",
          "iopub.status.idle": "2023-10-05T22:59:58.134321Z",
          "shell.execute_reply": "2023-10-05T22:59:58.132916Z",
          "shell.execute_reply.started": "2023-10-05T22:59:58.117315Z"
        },
        "trusted": true,
        "colab": {
          "base_uri": "https://localhost:8080/"
        },
        "id": "Ve6qvdHKlkyb",
        "outputId": "b7f40e29-d7e5-4158-ad70-c5e81596d2a8"
      },
      "outputs": [
        {
          "output_type": "execute_result",
          "data": {
            "text/plain": [
              "never                       37724\n",
              "sometimes                    7732\n",
              "often                         410\n",
              " and maybe down the line        1\n",
              "Name: drugs, dtype: int64"
            ]
          },
          "metadata": {},
          "execution_count": 27
        }
      ],
      "source": [
        "okcupid.drugs.value_counts()"
      ]
    },
    {
      "cell_type": "code",
      "execution_count": 28,
      "metadata": {
        "execution": {
          "iopub.execute_input": "2023-10-05T22:59:58.136969Z",
          "iopub.status.busy": "2023-10-05T22:59:58.135905Z",
          "iopub.status.idle": "2023-10-05T22:59:58.152005Z",
          "shell.execute_reply": "2023-10-05T22:59:58.149958Z",
          "shell.execute_reply.started": "2023-10-05T22:59:58.136920Z"
        },
        "trusted": true,
        "colab": {
          "base_uri": "https://localhost:8080/"
        },
        "id": "pJc_f9PXlkyc",
        "outputId": "b5e52322-c727-48b3-b31e-62d0dd1bfe12"
      },
      "outputs": [
        {
          "output_type": "execute_result",
          "data": {
            "text/plain": [
              "graduated from college/university            23959\n",
              "graduated from masters program                8961\n",
              "working on college/university                 5712\n",
              "working on masters program                    1683\n",
              "graduated from two-year college               1531\n",
              "graduated from high school                    1428\n",
              "graduated from ph.d program                   1272\n",
              "graduated from law school                     1122\n",
              "working on two-year college                   1074\n",
              "dropped out of college/university              995\n",
              "working on ph.d program                        983\n",
              "college/university                             801\n",
              "graduated from space camp                      657\n",
              "dropped out of space camp                      523\n",
              "graduated from med school                      446\n",
              "working on space camp                          445\n",
              "working on law school                          269\n",
              "two-year college                               222\n",
              "working on med school                          212\n",
              "dropped out of two-year college                191\n",
              "dropped out of masters program                 140\n",
              "masters program                                136\n",
              "dropped out of ph.d program                    127\n",
              "dropped out of high school                     102\n",
              "high school                                     96\n",
              "working on high school                          87\n",
              "space camp                                      58\n",
              "ph.d program                                    26\n",
              "law school                                      19\n",
              "dropped out of law school                       18\n",
              "dropped out of med school                       12\n",
              "med school                                      11\n",
              " family (currently i'm more about friends        1\n",
              "Name: education, dtype: int64"
            ]
          },
          "metadata": {},
          "execution_count": 28
        }
      ],
      "source": [
        "okcupid.education.value_counts()"
      ]
    },
    {
      "cell_type": "markdown",
      "source": [
        "1. Undergraduate Degree, 2. Graduate Degree, 3. Law/Medical School Graduate, 4. High School Graduate, 5.\n",
        "Currently Enrolled in College Only mark your highest degree"
      ],
      "metadata": {
        "id": "UFs2d-niSfLG"
      }
    },
    {
      "cell_type": "markdown",
      "metadata": {
        "id": "1GitGGRQlkyc"
      },
      "source": [
        "'Education'\n",
        "\n",
        "33 different categories, ranging from 23959 to 11 entries"
      ]
    },
    {
      "cell_type": "code",
      "execution_count": 29,
      "metadata": {
        "execution": {
          "iopub.execute_input": "2023-10-06T00:47:50.453014Z",
          "iopub.status.busy": "2023-10-06T00:47:50.451697Z",
          "iopub.status.idle": "2023-10-06T00:47:50.462603Z",
          "shell.execute_reply": "2023-10-06T00:47:50.461282Z",
          "shell.execute_reply.started": "2023-10-06T00:47:50.452962Z"
        },
        "trusted": true,
        "id": "xk0xeKHelkyd"
      },
      "outputs": [],
      "source": [
        "filtered_df = okcupid[okcupid['offspring'].isin([\"doesn't have kids\", \"has kids\", 'wants kids', \"doesn't want kids\"])]"
      ]
    },
    {
      "cell_type": "code",
      "execution_count": 30,
      "metadata": {
        "execution": {
          "iopub.execute_input": "2023-10-06T00:49:27.775362Z",
          "iopub.status.busy": "2023-10-06T00:49:27.774848Z",
          "iopub.status.idle": "2023-10-06T00:49:28.051970Z",
          "shell.execute_reply": "2023-10-06T00:49:28.050620Z",
          "shell.execute_reply.started": "2023-10-06T00:49:27.775319Z"
        },
        "trusted": true,
        "colab": {
          "base_uri": "https://localhost:8080/",
          "height": 532
        },
        "id": "UHtpMFbZlkyd",
        "outputId": "2dd074f1-4d55-4ec5-b9c9-bb5fb1ea4202"
      },
      "outputs": [
        {
          "output_type": "display_data",
          "data": {
            "text/plain": [
              "<Figure size 640x480 with 1 Axes>"
            ],
            "image/png": "[encoded data removed]"
          },
          "metadata": {}
        }
      ],
      "source": [
        "sns.histplot(x='offspring', data=filtered_df)\n",
        "plt.xticks(rotation=45)\n",
        "plt.show()"
      ]
    },
    {
      "cell_type": "code",
      "execution_count": 31,
      "metadata": {
        "execution": {
          "iopub.execute_input": "2023-10-06T00:57:37.512707Z",
          "iopub.status.busy": "2023-10-06T00:57:37.512191Z",
          "iopub.status.idle": "2023-10-06T00:57:37.526463Z",
          "shell.execute_reply": "2023-10-06T00:57:37.525365Z",
          "shell.execute_reply.started": "2023-10-06T00:57:37.512663Z"
        },
        "trusted": true,
        "colab": {
          "base_uri": "https://localhost:8080/"
        },
        "id": "3if2cXrglkyd",
        "outputId": "a53d8ca2-60cf-421f-846e-9b8fe2bf63a7"
      },
      "outputs": [
        {
          "output_type": "stream",
          "name": "stdout",
          "text": [
            "agnosticism     8812\n",
            "other           7743\n",
            "atheism         6985\n",
            "christianity    5787\n",
            "catholicism     4758\n",
            "judaism         3098\n",
            "buddhism        1948\n",
            "hinduism         450\n",
            "islam            139\n",
            "Name: religion, dtype: int64\n"
          ]
        }
      ],
      "source": [
        "okcupid_mod = okcupid[okcupid['religion'].notnull()]\n",
        "\n",
        "#Strip every word except the first\n",
        "okcupid_mod['religion'] = okcupid_mod['religion'].apply(lambda x: x.split(' ')[0])\n",
        "\n",
        "# Get value counts\n",
        "value_count = okcupid_mod['religion'].value_counts()\n",
        "\n",
        "# Filter value counts that are greater than 10\n",
        "filtered_value_count = value_count[value_count > 10]\n",
        "\n",
        "print(filtered_value_count)"
      ]
    },
    {
      "cell_type": "code",
      "execution_count": 32,
      "metadata": {
        "execution": {
          "iopub.execute_input": "2023-10-06T00:49:27.775362Z",
          "iopub.status.busy": "2023-10-06T00:49:27.774848Z",
          "iopub.status.idle": "2023-10-06T00:49:28.051970Z",
          "shell.execute_reply": "2023-10-06T00:49:28.050620Z",
          "shell.execute_reply.started": "2023-10-06T00:49:27.775319Z"
        },
        "trusted": true,
        "colab": {
          "base_uri": "https://localhost:8080/",
          "height": 504
        },
        "outputId": "eeab4df0-232d-4af3-dd2e-2146a4e0b92f",
        "id": "4N76t6nPozVE"
      },
      "outputs": [
        {
          "output_type": "display_data",
          "data": {
            "text/plain": [
              "<Figure size 640x480 with 1 Axes>"
            ],
            "image/png": "[encoded data removed]"
          },
          "metadata": {}
        }
      ],
      "source": [
        "sns.histplot(x='religion', data=okcupid_mod)\n",
        "plt.xticks(rotation=45)\n",
        "plt.show()"
      ]
    },
    {
      "cell_type": "code",
      "execution_count": 33,
      "metadata": {
        "execution": {
          "iopub.execute_input": "2023-10-06T01:15:17.353600Z",
          "iopub.status.busy": "2023-10-06T01:15:17.353111Z",
          "iopub.status.idle": "2023-10-06T01:15:17.367406Z",
          "shell.execute_reply": "2023-10-06T01:15:17.366202Z",
          "shell.execute_reply.started": "2023-10-06T01:15:17.353534Z"
        },
        "trusted": true,
        "colab": {
          "base_uri": "https://localhost:8080/"
        },
        "id": "eYmsC56mlkyd",
        "outputId": "4359c2c2-26f4-4439-c71a-1caffacc812c"
      },
      "outputs": [
        {
          "output_type": "stream",
          "name": "stdout",
          "text": [
            "leo            4374\n",
            "gemini         4310\n",
            "libra          4207\n",
            "cancer         4206\n",
            "virgo          4141\n",
            "taurus         4140\n",
            "scorpio        4134\n",
            "aries          3989\n",
            "pisces         3946\n",
            "sagittarius    3942\n",
            "aquarius       3928\n",
            "capricorn      3573\n",
            "Name: sign, dtype: int64\n"
          ]
        }
      ],
      "source": [
        "okcupid_sign = okcupid[okcupid['sign'].notnull()]\n",
        "\n",
        "okcupid_sign['sign'] = okcupid_sign['sign'].apply(lambda x: x.split(' ')[0])\n",
        "\n",
        "# Get value counts\n",
        "value = okcupid_sign['sign'].value_counts()\n",
        "\n",
        "# Filter value counts that are greater than 10\n",
        "filtered_value = value[value > 10]\n",
        "\n",
        "# Display filtered value counts\n",
        "print(filtered_value)"
      ]
    },
    {
      "cell_type": "code",
      "execution_count": 34,
      "metadata": {
        "execution": {
          "iopub.execute_input": "2023-10-06T01:18:31.751865Z",
          "iopub.status.busy": "2023-10-06T01:18:31.750514Z",
          "iopub.status.idle": "2023-10-06T01:18:32.159815Z",
          "shell.execute_reply": "2023-10-06T01:18:32.158654Z",
          "shell.execute_reply.started": "2023-10-06T01:18:31.751814Z"
        },
        "trusted": true,
        "colab": {
          "base_uri": "https://localhost:8080/",
          "height": 497
        },
        "id": "kkixUwW6lkyd",
        "outputId": "1721c2f2-5d0c-4560-f2dc-854f213c7dc1"
      },
      "outputs": [
        {
          "output_type": "display_data",
          "data": {
            "text/plain": [
              "<Figure size 640x480 with 1 Axes>"
            ],
            "image/png": "[encoded data removed]"
          },
          "metadata": {}
        }
      ],
      "source": [
        "sns.histplot(x='sign', data=okcupid_sign)\n",
        "plt.xticks(rotation=45)\n",
        "plt.show()"
      ]
    },
    {
      "cell_type": "markdown",
      "metadata": {
        "id": "NZA8lWrNlkyd"
      },
      "source": [
        "# The essays\n",
        "Each profile has 'essays' - free form answer questions.\n",
        "This section looks to be suited to a language focused analysis, enabling answering questions such as:\n",
        "* which words are most frequently used\n",
        "* which topics most frenquently arise\n",
        "\n",
        "Explore sorting and filtering words and create a word cloud for to display frequencies"
      ]
    },
    {
      "cell_type": "code",
      "execution_count": 35,
      "metadata": {
        "execution": {
          "iopub.execute_input": "2023-10-05T23:02:17.356205Z",
          "iopub.status.busy": "2023-10-05T23:02:17.355828Z",
          "iopub.status.idle": "2023-10-05T23:02:38.526051Z",
          "shell.execute_reply": "2023-10-05T23:02:38.525163Z",
          "shell.execute_reply.started": "2023-10-05T23:02:17.356174Z"
        },
        "trusted": true,
        "colab": {
          "base_uri": "https://localhost:8080/"
        },
        "id": "X5BKmVQSlkye",
        "outputId": "4f60eae6-4e44-48f4-ffce-6d0f9fc68faf"
      },
      "outputs": [
        {
          "output_type": "stream",
          "name": "stdout",
          "text": [
            "72\n",
            "145\n",
            "218\n",
            "279\n",
            "357\n",
            "424\n",
            "469\n",
            "525\n",
            "583\n",
            "635\n"
          ]
        }
      ],
      "source": [
        "from nltk import TweetTokenizer #TweetTokenizer was tried so solve another problem\n",
        "# but for the context it may be more applicable than word_tokenize()\n",
        "tokens_main = []\n",
        "for col in okcupid.filter(regex=\"essay\\d+\", axis=1).columns: #regex=\"essay\\d+\" tells to apply to cols with this title, \\d+ is a digit +1\n",
        "    okcupid[col] = okcupid[col].str.replace(\"[.?!,:;()\\-\\\"]\", \"\", regex=True)\n",
        "    tokens = nltk.TweetTokenizer().tokenize(str(okcupid[col])) # I'd like to understand what okcupid[col] is withouth str() and why str() is needed\n",
        "    tokens_no_stops = [word for word in tokens if word not in stop_words]\n",
        "    tokens_no_stops = [word for word in tokens_no_stops if word not in ['NaN', '...', 'im']]\n",
        "    tokens_main += tokens_no_stops #this may be an issue - better try tokens_main.append(tokens_no_stops)\n",
        "    print(len(tokens_main))"
      ]
    },
    {
      "cell_type": "code",
      "execution_count": 36,
      "metadata": {
        "execution": {
          "iopub.execute_input": "2023-10-05T23:03:20.264825Z",
          "iopub.status.busy": "2023-10-05T23:03:20.264299Z",
          "iopub.status.idle": "2023-10-05T23:03:21.442039Z",
          "shell.execute_reply": "2023-10-05T23:03:21.441135Z",
          "shell.execute_reply.started": "2023-10-05T23:03:20.264785Z"
        },
        "trusted": true,
        "id": "sxcBDuXYlkye"
      },
      "outputs": [],
      "source": [
        "# generate a dictionary with the key being the word and the value being the frequency of the word\n",
        "tokens_dict = {}\n",
        "for word in tokens_main:\n",
        "    if word in tokens_dict:\n",
        "        tokens_dict[word] = tokens_dict[word]+1\n",
        "    else:\n",
        "        tokens_dict[word]=1\n",
        "\n",
        "#print(tokens_dict)\n",
        "#print(len(tokens_dict))"
      ]
    }
  ],
  "metadata": {
    "kernelspec": {
      "display_name": "Python 3",
      "language": "python",
      "name": "python3"
    },
    "language_info": {
      "codemirror_mode": {
        "name": "ipython",
        "version": 3
      },
      "file_extension": ".py",
      "mimetype": "text/x-python",
      "name": "python",
      "nbconvert_exporter": "python",
      "pygments_lexer": "ipython3",
      "version": "3.7.12"
    },
    "colab": {
      "provenance": [],
      "toc_visible": true,
      "include_colab_link": true
    }
  },
  "nbformat": 4,
  "nbformat_minor": 0
}